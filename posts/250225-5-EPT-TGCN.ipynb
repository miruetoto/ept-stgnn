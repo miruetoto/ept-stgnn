{
 "cells": [
  {
   "cell_type": "markdown",
   "id": "aa0506ef-eab8-4c08-b6d7-032e6f8aeced",
   "metadata": {},
   "source": [
    "# 250225-5"
   ]
  },
  {
   "cell_type": "markdown",
   "id": "7c6ee421",
   "metadata": {},
   "source": [
    "## 1. Load"
   ]
  },
  {
   "cell_type": "code",
   "execution_count": 2,
   "id": "af066bc3",
   "metadata": {},
   "outputs": [
    {
     "name": "stderr",
     "output_type": "stream",
     "text": [
      "/home/cgb3/anaconda3/envs/stgcn-playground/lib/python3.10/site-packages/tqdm/auto.py:21: TqdmWarning: IProgress not found. Please update jupyter and ipywidgets. See https://ipywidgets.readthedocs.io/en/stable/user_install.html\n",
      "  from .autonotebook import tqdm as notebook_tqdm\n"
     ]
    }
   ],
   "source": [
    "from v250224_2 import * \n",
    "import pickle"
   ]
  },
  {
   "cell_type": "code",
   "execution_count": 3,
   "id": "b5fdfc70",
   "metadata": {},
   "outputs": [],
   "source": [
    "# .pkl 파일에서 불러오기\n",
    "with open(\"./data/data.pkl\", \"rb\") as f:\n",
    "    data_loaded = pickle.load(f)\n",
    "\n",
    "# 변수 개별 할당\n",
    "y = data_loaded[\"y\"]\n",
    "yU = data_loaded[\"yU\"]\n",
    "yP = data_loaded[\"yP\"]\n",
    "t = data_loaded[\"t\"]\n",
    "regions = data_loaded[\"regions\"]"
   ]
  },
  {
   "cell_type": "markdown",
   "id": "9e40a2e5-75ee-4e2f-95ae-5def5216bb98",
   "metadata": {},
   "source": [
    "## 2. Fit"
   ]
  },
  {
   "cell_type": "code",
   "execution_count": 4,
   "id": "574d585f-0058-41c3-bef5-5c2fe7d1f097",
   "metadata": {},
   "outputs": [],
   "source": [
    "import torch.nn.functional as F\n",
    "from torch_geometric_temporal.nn.recurrent import TGCN\n",
    "\n",
    "class RecurrentGCN(torch.nn.Module):\n",
    "    def __init__(self, node_features, filters):\n",
    "        super(RecurrentGCN, self).__init__()\n",
    "        self.recurrent = TGCN(node_features, filters)\n",
    "        self.linear = torch.nn.Linear(filters, 1)\n",
    "\n",
    "    def forward(self, x, edge_index, edge_weight):\n",
    "        h = self.recurrent(x, edge_index, edge_weight)\n",
    "        h = F.relu(h)\n",
    "        h = self.linear(h)\n",
    "        return h\n",
    "\n",
    "model = RecurrentGCN(node_features=24, filters=16)  # node_features = LAGS\n",
    "model_u = RecurrentGCN(node_features=4, filters=16)  # node_features = LAGS\n",
    "model_p = RecurrentGCN(node_features=24, filters=16)  # node_features = LAGS"
   ]
  },
  {
   "cell_type": "code",
   "execution_count": null,
   "id": "2c65f7b1-b73d-41e4-b464-97b520e166a5",
   "metadata": {},
   "outputs": [],
   "source": [
    "yhat = split_fit_merge_stgcn(\n",
    "    FX = y,\n",
    "    train_ratio = 0.8,     \n",
    "    model = model, \n",
    "    lags = 24, \n",
    "    epoch = 5, \n",
    "    dataset_name = None\n",
    ")"
   ]
  },
  {
   "cell_type": "code",
   "execution_count": null,
   "id": "658aaa9a",
   "metadata": {},
   "outputs": [
    {
     "ename": "NameError",
     "evalue": "name 'split_fit_merge_eptstgcn' is not defined",
     "output_type": "error",
     "traceback": [
      "\u001b[0;31m---------------------------------------------------------------------------\u001b[0m",
      "\u001b[0;31mNameError\u001b[0m                                 Traceback (most recent call last)",
      "Cell \u001b[0;32mIn[1], line 1\u001b[0m\n\u001b[0;32m----> 1\u001b[0m yUhat, yPhat \u001b[38;5;241m=\u001b[39m \u001b[43msplit_fit_merge_eptstgcn\u001b[49m(\n\u001b[1;32m      2\u001b[0m     FXs \u001b[38;5;241m=\u001b[39m (yU, yP),\n\u001b[1;32m      3\u001b[0m     train_ratio \u001b[38;5;241m=\u001b[39m \u001b[38;5;241m0.8\u001b[39m, \n\u001b[1;32m      4\u001b[0m     models \u001b[38;5;241m=\u001b[39m (model_u, model_p),\n\u001b[1;32m      5\u001b[0m     lags \u001b[38;5;241m=\u001b[39m (\u001b[38;5;241m4\u001b[39m,\u001b[38;5;241m24\u001b[39m),\n\u001b[1;32m      6\u001b[0m     epochs \u001b[38;5;241m=\u001b[39m (\u001b[38;5;241m5\u001b[39m,\u001b[38;5;241m5\u001b[39m),\n\u001b[1;32m      7\u001b[0m     dataset_name \u001b[38;5;241m=\u001b[39m \u001b[38;5;28;01mNone\u001b[39;00m\n\u001b[1;32m      8\u001b[0m )\n",
      "\u001b[0;31mNameError\u001b[0m: name 'split_fit_merge_eptstgcn' is not defined"
     ]
    }
   ],
   "source": [
    "yUhat, yPhat = split_fit_merge_eptstgcn(\n",
    "    FXs = (yU, yP),\n",
    "    train_ratio = 0.8, \n",
    "    models = (model_u, model_p),\n",
    "    lags = (4,24),\n",
    "    epochs = (5,5),\n",
    "    dataset_name = None\n",
    ")"
   ]
  },
  {
   "cell_type": "markdown",
   "id": "8fd92083",
   "metadata": {},
   "source": [
    "## 결과저장 "
   ]
  },
  {
   "cell_type": "code",
   "execution_count": null,
   "id": "480a59e0",
   "metadata": {},
   "outputs": [
    {
     "name": "stdout",
     "output_type": "stream",
     "text": [
      "훈련 데이터 파일 'GConvGRU_train.npy'이 저장되었습니다.\n",
      "테스트 데이터 파일 'GConvGRU_test.npy'이 저장되었습니다.\n"
     ]
    }
   ],
   "source": [
    "# 데이터 분할\n",
    "total_time_steps = len(t)\n",
    "train_size = int(np.floor(total_time_steps * tr_ratio))\n",
    "test_size = total_time_steps - train_size\n",
    "t_train, t_test = t[:train_size], t[train_size:] if test_size > 0 else None\n",
    "y_train, y_test = y[:train_size, :], y[train_size:, :] if test_size > 0 else None\n",
    "yhat_train, yhat_test = yhat[:train_size, :], yhat[train_size:, :] if test_size > 0 else None\n",
    "yUhat_train, yUhat_test = yUhat[:train_size, :], yUhat[train_size:, :] if test_size > 0 else None\n",
    "yPhat_train, yPhat_test = yPhat[:train_size, :], yPhat[train_size:, :] if test_size > 0 else None\n",
    "\n",
    "# 훈련 데이터 및 테스트 데이터 스택 쌓기\n",
    "train_data_stacked = np.stack((yhat_train, yUhat_train, yPhat_train), axis=0)\n",
    "test_data_stacked = np.stack((yhat_test, yUhat_test, yPhat_test), axis=0)\n",
    "\n",
    "# 저장할 파일 이름 설정 (모형 이름과 시뮬레이션 번호 반영)\n",
    "filename_train = f'./results/TGCN_train.npy'\n",
    "filename_test = f'./results/TGCN_test.npy'\n",
    "\n",
    "# NumPy 파일로 저장\n",
    "np.save(filename_train, train_data_stacked)\n",
    "np.save(filename_test, test_data_stacked)"
   ]
  }
 ],
 "metadata": {
  "kernelspec": {
   "display_name": "stgcn-playground",
   "language": "python",
   "name": "python3"
  },
  "language_info": {
   "codemirror_mode": {
    "name": "ipython",
    "version": 3
   },
   "file_extension": ".py",
   "mimetype": "text/x-python",
   "name": "python",
   "nbconvert_exporter": "python",
   "pygments_lexer": "ipython3",
   "version": "3.10.16"
  }
 },
 "nbformat": 4,
 "nbformat_minor": 5
}
