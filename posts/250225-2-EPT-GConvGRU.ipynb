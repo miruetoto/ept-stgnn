{
 "cells": [
  {
   "cell_type": "markdown",
   "id": "aa0506ef-eab8-4c08-b6d7-032e6f8aeced",
   "metadata": {},
   "source": [
    "# 250225-2"
   ]
  },
  {
   "cell_type": "markdown",
   "id": "73ceafba-ed55-4065-9c77-c0c242f7d9c8",
   "metadata": {},
   "source": [
    "## 1. Load"
   ]
  },
  {
   "cell_type": "code",
   "execution_count": 3,
   "id": "65827288-960c-4fc9-bad4-91a79d3d4486",
   "metadata": {},
   "outputs": [],
   "source": [
    "from v250224_2 import * \n",
    "import pickle"
   ]
  },
  {
   "cell_type": "code",
   "execution_count": 4,
   "id": "55bb3258",
   "metadata": {},
   "outputs": [],
   "source": [
    "# .pkl 파일에서 불러오기\n",
    "with open(\"./data/data.pkl\", \"rb\") as f:\n",
    "    data_loaded = pickle.load(f)\n",
    "\n",
    "# 변수 개별 할당\n",
    "y = data_loaded[\"y\"]\n",
    "yU = data_loaded[\"yU\"]\n",
    "yP = data_loaded[\"yP\"]\n",
    "t = data_loaded[\"t\"]\n",
    "regions = data_loaded[\"regions\"]"
   ]
  },
  {
   "cell_type": "markdown",
   "id": "9e40a2e5-75ee-4e2f-95ae-5def5216bb98",
   "metadata": {},
   "source": [
    "## 2. Fit "
   ]
  },
  {
   "cell_type": "code",
   "execution_count": 5,
   "id": "574d585f-0058-41c3-bef5-5c2fe7d1f097",
   "metadata": {},
   "outputs": [],
   "source": [
    "import torch.nn.functional as F\n",
    "from torch_geometric_temporal.nn.recurrent import GConvGRU\n",
    "\n",
    "class RecurrentGCN(torch.nn.Module):\n",
    "    def __init__(self, node_features, filters):\n",
    "        super(RecurrentGCN, self).__init__()\n",
    "        self.recurrent = GConvGRU(node_features, filters, 2)\n",
    "        self.linear = torch.nn.Linear(filters, 1)\n",
    "\n",
    "    def forward(self, x, edge_index, edge_weight):\n",
    "        h = self.recurrent(x, edge_index, edge_weight)\n",
    "        h = F.relu(h)\n",
    "        h = self.linear(h)\n",
    "        return h\n",
    "model = RecurrentGCN(node_features=24, filters=16)  # node_features = LAGS\n",
    "model_u = RecurrentGCN(node_features=4, filters=16)  # node_features = LAGS\n",
    "model_p = RecurrentGCN(node_features=24, filters=16)  # node_features = LAGS"
   ]
  },
  {
   "cell_type": "code",
   "execution_count": 5,
   "id": "2c65f7b1-b73d-41e4-b464-97b520e166a5",
   "metadata": {},
   "outputs": [
    {
     "name": "stdout",
     "output_type": "stream",
     "text": [
      "1/5\n",
      "2/5\n",
      "3/5\n",
      "4/5\n",
      "5/5\n"
     ]
    }
   ],
   "source": [
    "yhat = split_fit_merge_stgcn(\n",
    "    FX = y,\n",
    "    train_ratio = 0.8,     \n",
    "    model = model, \n",
    "    lags = 24, \n",
    "    epoch = 5, \n",
    "    dataset_name = None\n",
    ")"
   ]
  },
  {
   "cell_type": "code",
   "execution_count": 6,
   "id": "66f6f2c9-8189-4fca-a77f-8c79720eb665",
   "metadata": {},
   "outputs": [
    {
     "name": "stdout",
     "output_type": "stream",
     "text": [
      "1/5\n",
      "1/5\n",
      "2/5\n",
      "2/5\n",
      "3/5\n",
      "3/5\n",
      "4/5\n",
      "4/5\n",
      "5/5\n",
      "5/5\n"
     ]
    }
   ],
   "source": [
    "yUhat, yPhat = split_fit_merge_eptstgcn(\n",
    "    FXs = (yU, yP),\n",
    "    train_ratio = 0.8, \n",
    "    models = (model_u, model_p),\n",
    "    lags = (4,24),\n",
    "    epochs = (5,5),\n",
    "    dataset_name = None\n",
    ")"
   ]
  },
  {
   "cell_type": "markdown",
   "id": "8fd92083",
   "metadata": {},
   "source": [
    "## 3. Save"
   ]
  },
  {
   "cell_type": "code",
   "execution_count": 8,
   "id": "480a59e0",
   "metadata": {},
   "outputs": [],
   "source": [
    "# 데이터 분할\n",
    "train_ratio = 0.8\n",
    "total_time_steps = len(t)\n",
    "train_size = int(np.floor(total_time_steps * train_ratio))\n",
    "test_size = total_time_steps - train_size\n",
    "t_train, t_test = t[:train_size], t[train_size:] if test_size > 0 else None\n",
    "y_train, y_test = y[:train_size, :], y[train_size:, :] if test_size > 0 else None\n",
    "yhat_train, yhat_test = yhat[:train_size, :], yhat[train_size:, :] if test_size > 0 else None\n",
    "yUhat_train, yUhat_test = yUhat[:train_size, :], yUhat[train_size:, :] if test_size > 0 else None\n",
    "yPhat_train, yPhat_test = yPhat[:train_size, :], yPhat[train_size:, :] if test_size > 0 else None\n",
    "\n",
    "# 훈련 데이터 및 테스트 데이터 스택 쌓기\n",
    "train_data_stacked = np.stack((yhat_train, yUhat_train, yPhat_train), axis=0)\n",
    "test_data_stacked = np.stack((yhat_test, yUhat_test, yPhat_test), axis=0)\n",
    "\n",
    "# 저장할 파일 이름 설정 (모형 이름과 시뮬레이션 번호 반영)\n",
    "filename_train = f'./results/GConvGRU_train.npy'\n",
    "filename_test = f'./results/GConvGRU_test.npy'\n",
    "\n",
    "# NumPy 파일로 저장\n",
    "np.save(filename_train, train_data_stacked)\n",
    "np.save(filename_test, test_data_stacked)"
   ]
  }
 ],
 "metadata": {
  "kernelspec": {
   "display_name": "stgcn-playground",
   "language": "python",
   "name": "python3"
  },
  "language_info": {
   "codemirror_mode": {
    "name": "ipython",
    "version": 3
   },
   "file_extension": ".py",
   "mimetype": "text/x-python",
   "name": "python",
   "nbconvert_exporter": "python",
   "pygments_lexer": "ipython3",
   "version": "3.10.16"
  }
 },
 "nbformat": 4,
 "nbformat_minor": 5
}
